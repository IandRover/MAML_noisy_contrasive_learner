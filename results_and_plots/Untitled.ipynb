{
 "cells": [
  {
   "cell_type": "code",
   "execution_count": 4,
   "id": "6e3ec98a",
   "metadata": {},
   "outputs": [],
   "source": [
    "import os\n",
    "path = \"./results/miniimagenet/training_stage_zeroing/\"\n",
    "for foldername in os.listdir(path):\n",
    "    for filename in os.listdir(os.path.join(path, foldername)):\n",
    "        if filename not in [\"test_E6S2400.csv\", \"test_zero_E6S2400.csv\"]:\n",
    "            try:\n",
    "                os.remove(os.path.join(path, foldername, filename))\n",
    "            except:\n",
    "                pass"
   ]
  },
  {
   "cell_type": "code",
   "execution_count": 5,
   "id": "a5bab39a",
   "metadata": {},
   "outputs": [],
   "source": [
    "import os\n",
    "path = \"./results/miniimagenet/5_way_25_shot/\"\n",
    "for foldername in os.listdir(path):\n",
    "    for filename in os.listdir(os.path.join(path, foldername)):\n",
    "        if filename not in [\"test_E9S800.csv\"]:\n",
    "            try:\n",
    "                os.remove(os.path.join(path, foldername, filename))\n",
    "            except:\n",
    "                pass"
   ]
  },
  {
   "cell_type": "code",
   "execution_count": 6,
   "id": "eec08c95",
   "metadata": {},
   "outputs": [],
   "source": [
    "import os\n",
    "path = \"./results/miniimagenet/fixed_channel/\"\n",
    "for foldername in os.listdir(path):\n",
    "    for filename in os.listdir(os.path.join(path, foldername)):\n",
    "        if filename not in [\"test_E11S2300.csv\"]:\n",
    "            try:\n",
    "                os.remove(os.path.join(path, foldername, filename))\n",
    "            except:\n",
    "                pass"
   ]
  },
  {
   "cell_type": "code",
   "execution_count": 1,
   "id": "36a78ff4",
   "metadata": {},
   "outputs": [],
   "source": [
    "import os\n",
    "path = \"./results/miniimagenet/FOMAML_SOMAML/\"\n",
    "for foldername in os.listdir(path):\n",
    "    for filename in os.listdir(os.path.join(path, foldername)):\n",
    "        if filename not in [\"test_E11S2300.csv\",\"test_E6S1000.csv\"]:\n",
    "            try:\n",
    "                os.remove(os.path.join(path, foldername, filename))\n",
    "            except:\n",
    "                pass"
   ]
  },
  {
   "cell_type": "code",
   "execution_count": null,
   "id": "9f9dcf7e",
   "metadata": {},
   "outputs": [],
   "source": []
  }
 ],
 "metadata": {
  "kernelspec": {
   "display_name": "Python 3",
   "language": "python",
   "name": "python3"
  },
  "language_info": {
   "codemirror_mode": {
    "name": "ipython",
    "version": 3
   },
   "file_extension": ".py",
   "mimetype": "text/x-python",
   "name": "python",
   "nbconvert_exporter": "python",
   "pygments_lexer": "ipython3",
   "version": "3.8.8"
  }
 },
 "nbformat": 4,
 "nbformat_minor": 5
}
